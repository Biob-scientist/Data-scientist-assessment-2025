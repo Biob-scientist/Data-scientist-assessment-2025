{
 "cells": [
  {
   "cell_type": "markdown",
   "id": "038cec41-adc6-4a9f-9376-b26e9b26512e",
   "metadata": {},
   "source": [
    "## Covid 19 Machine learning"
   ]
  },
  {
   "cell_type": "code",
   "execution_count": 1,
   "id": "f1d43df5-7b62-4f67-9844-e92569b144f1",
   "metadata": {},
   "outputs": [],
   "source": [
    "import pandas as pd\n",
    "import numpy as np\n",
    "import matplotlib.pyplot as plt\n",
    "import seaborn as sns\n",
    "# from sklearn.model_selection import LinearRgression"
   ]
  },
  {
   "cell_type": "code",
   "execution_count": 2,
   "id": "b35ae4d2-6e57-421e-a52d-dec2f48c5cdf",
   "metadata": {},
   "outputs": [
    {
     "data": {
      "text/html": [
       "<div>\n",
       "<style scoped>\n",
       "    .dataframe tbody tr th:only-of-type {\n",
       "        vertical-align: middle;\n",
       "    }\n",
       "\n",
       "    .dataframe tbody tr th {\n",
       "        vertical-align: top;\n",
       "    }\n",
       "\n",
       "    .dataframe thead th {\n",
       "        text-align: right;\n",
       "    }\n",
       "</style>\n",
       "<table border=\"1\" class=\"dataframe\">\n",
       "  <thead>\n",
       "    <tr style=\"text-align: right;\">\n",
       "      <th></th>\n",
       "      <th>Sex</th>\n",
       "      <th>Birth Year</th>\n",
       "      <th>Chest pain</th>\n",
       "      <th>Chills or sweats</th>\n",
       "      <th>Confused or disoriented</th>\n",
       "      <th>Cough</th>\n",
       "      <th>Diarrhea</th>\n",
       "      <th>Difficulty breathing or Dyspnea</th>\n",
       "      <th>Digested blood or coffee grounds in vomit</th>\n",
       "      <th>Pain behind eyes or Sensitivity to light</th>\n",
       "      <th>...</th>\n",
       "      <th>Cough with sputum</th>\n",
       "      <th>Cough with heamoptysis</th>\n",
       "      <th>Enlarged lymph nodes</th>\n",
       "      <th>Wheezing</th>\n",
       "      <th>Skin ulcers</th>\n",
       "      <th>Inability to walk</th>\n",
       "      <th>Indrawing of chest wall</th>\n",
       "      <th>Other complications</th>\n",
       "      <th>Specify other complications</th>\n",
       "      <th>Result</th>\n",
       "    </tr>\n",
       "  </thead>\n",
       "  <tbody>\n",
       "    <tr>\n",
       "      <th>0</th>\n",
       "      <td>MALE</td>\n",
       "      <td>1967</td>\n",
       "      <td>NO</td>\n",
       "      <td>NO</td>\n",
       "      <td>NO</td>\n",
       "      <td>NO</td>\n",
       "      <td>NO</td>\n",
       "      <td>NO</td>\n",
       "      <td>NaN</td>\n",
       "      <td>NaN</td>\n",
       "      <td>...</td>\n",
       "      <td>NO</td>\n",
       "      <td>NO</td>\n",
       "      <td>NO</td>\n",
       "      <td>NO</td>\n",
       "      <td>NO</td>\n",
       "      <td>NO</td>\n",
       "      <td>NO</td>\n",
       "      <td>1</td>\n",
       "      <td>NaN</td>\n",
       "      <td>PENDING</td>\n",
       "    </tr>\n",
       "    <tr>\n",
       "      <th>1</th>\n",
       "      <td>MALE</td>\n",
       "      <td>1976</td>\n",
       "      <td>NaN</td>\n",
       "      <td>NaN</td>\n",
       "      <td>NaN</td>\n",
       "      <td>NaN</td>\n",
       "      <td>NaN</td>\n",
       "      <td>NaN</td>\n",
       "      <td>NaN</td>\n",
       "      <td>NaN</td>\n",
       "      <td>...</td>\n",
       "      <td>NaN</td>\n",
       "      <td>NaN</td>\n",
       "      <td>NaN</td>\n",
       "      <td>NaN</td>\n",
       "      <td>NaN</td>\n",
       "      <td>NaN</td>\n",
       "      <td>NaN</td>\n",
       "      <td>NaN</td>\n",
       "      <td>NaN</td>\n",
       "      <td>NaN</td>\n",
       "    </tr>\n",
       "    <tr>\n",
       "      <th>2</th>\n",
       "      <td>MALE</td>\n",
       "      <td>1988</td>\n",
       "      <td>NO</td>\n",
       "      <td>NO</td>\n",
       "      <td>NO</td>\n",
       "      <td>NO</td>\n",
       "      <td>NO</td>\n",
       "      <td>NO</td>\n",
       "      <td>NaN</td>\n",
       "      <td>NaN</td>\n",
       "      <td>...</td>\n",
       "      <td>NaN</td>\n",
       "      <td>NaN</td>\n",
       "      <td>NaN</td>\n",
       "      <td>NaN</td>\n",
       "      <td>NaN</td>\n",
       "      <td>NaN</td>\n",
       "      <td>NaN</td>\n",
       "      <td>NaN</td>\n",
       "      <td>NaN</td>\n",
       "      <td>NEGATIVE</td>\n",
       "    </tr>\n",
       "    <tr>\n",
       "      <th>3</th>\n",
       "      <td>MALE</td>\n",
       "      <td>1980</td>\n",
       "      <td>NaN</td>\n",
       "      <td>NaN</td>\n",
       "      <td>NaN</td>\n",
       "      <td>NaN</td>\n",
       "      <td>NaN</td>\n",
       "      <td>NaN</td>\n",
       "      <td>NaN</td>\n",
       "      <td>NaN</td>\n",
       "      <td>...</td>\n",
       "      <td>NaN</td>\n",
       "      <td>NaN</td>\n",
       "      <td>NaN</td>\n",
       "      <td>NaN</td>\n",
       "      <td>NaN</td>\n",
       "      <td>NaN</td>\n",
       "      <td>NaN</td>\n",
       "      <td>NaN</td>\n",
       "      <td>NaN</td>\n",
       "      <td>NaN</td>\n",
       "    </tr>\n",
       "    <tr>\n",
       "      <th>4</th>\n",
       "      <td>FEMALE</td>\n",
       "      <td>1978</td>\n",
       "      <td>NO</td>\n",
       "      <td>NO</td>\n",
       "      <td>NO</td>\n",
       "      <td>YES</td>\n",
       "      <td>NO</td>\n",
       "      <td>YES</td>\n",
       "      <td>NaN</td>\n",
       "      <td>NaN</td>\n",
       "      <td>...</td>\n",
       "      <td>NaN</td>\n",
       "      <td>NaN</td>\n",
       "      <td>NaN</td>\n",
       "      <td>NaN</td>\n",
       "      <td>NaN</td>\n",
       "      <td>NaN</td>\n",
       "      <td>NaN</td>\n",
       "      <td>NaN</td>\n",
       "      <td>NaN</td>\n",
       "      <td>NEGATIVE</td>\n",
       "    </tr>\n",
       "  </tbody>\n",
       "</table>\n",
       "<p>5 rows × 47 columns</p>\n",
       "</div>"
      ],
      "text/plain": [
       "      Sex Birth Year Chest pain Chills or sweats Confused or disoriented  \\\n",
       "0    MALE       1967         NO               NO                      NO   \n",
       "1    MALE       1976        NaN              NaN                     NaN   \n",
       "2    MALE       1988         NO               NO                      NO   \n",
       "3    MALE       1980        NaN              NaN                     NaN   \n",
       "4  FEMALE       1978         NO               NO                      NO   \n",
       "\n",
       "  Cough Diarrhea Difficulty breathing or Dyspnea  \\\n",
       "0    NO       NO                              NO   \n",
       "1   NaN      NaN                             NaN   \n",
       "2    NO       NO                              NO   \n",
       "3   NaN      NaN                             NaN   \n",
       "4   YES       NO                             YES   \n",
       "\n",
       "  Digested blood or coffee grounds in vomit  \\\n",
       "0                                       NaN   \n",
       "1                                       NaN   \n",
       "2                                       NaN   \n",
       "3                                       NaN   \n",
       "4                                       NaN   \n",
       "\n",
       "  Pain behind eyes or Sensitivity to light  ... Cough with sputum  \\\n",
       "0                                      NaN  ...                NO   \n",
       "1                                      NaN  ...               NaN   \n",
       "2                                      NaN  ...               NaN   \n",
       "3                                      NaN  ...               NaN   \n",
       "4                                      NaN  ...               NaN   \n",
       "\n",
       "  Cough with heamoptysis Enlarged lymph nodes Wheezing Skin ulcers  \\\n",
       "0                     NO                   NO       NO          NO   \n",
       "1                    NaN                  NaN      NaN         NaN   \n",
       "2                    NaN                  NaN      NaN         NaN   \n",
       "3                    NaN                  NaN      NaN         NaN   \n",
       "4                    NaN                  NaN      NaN         NaN   \n",
       "\n",
       "  Inability to walk Indrawing of chest wall Other complications  \\\n",
       "0                NO                      NO                   1   \n",
       "1               NaN                     NaN                 NaN   \n",
       "2               NaN                     NaN                 NaN   \n",
       "3               NaN                     NaN                 NaN   \n",
       "4               NaN                     NaN                 NaN   \n",
       "\n",
       "  Specify other complications    Result  \n",
       "0                         NaN   PENDING  \n",
       "1                         NaN       NaN  \n",
       "2                         NaN  NEGATIVE  \n",
       "3                         NaN       NaN  \n",
       "4                         NaN  NEGATIVE  \n",
       "\n",
       "[5 rows x 47 columns]"
      ]
     },
     "execution_count": 2,
     "metadata": {},
     "output_type": "execute_result"
    }
   ],
   "source": [
    "df_raw=pd.read_csv(\"covid_19.csv\",dtype=str)\n",
    "df_raw.head()"
   ]
  },
  {
   "cell_type": "code",
   "execution_count": 3,
   "id": "7bec09e5-be0e-4b98-a4b1-33a3c304e206",
   "metadata": {},
   "outputs": [
    {
     "name": "stdout",
     "output_type": "stream",
     "text": [
      "<class 'pandas.core.frame.DataFrame'>\n",
      "RangeIndex: 109927 entries, 0 to 109926\n",
      "Data columns (total 47 columns):\n",
      " #   Column                                     Non-Null Count   Dtype\n",
      "---  ------                                     --------------   -----\n",
      " 0   Sex                                        109927 non-null  bool \n",
      " 1   Birth Year                                 109927 non-null  bool \n",
      " 2   Chest pain                                 109927 non-null  bool \n",
      " 3   Chills or sweats                           109927 non-null  bool \n",
      " 4   Confused or disoriented                    109927 non-null  bool \n",
      " 5   Cough                                      109927 non-null  bool \n",
      " 6   Diarrhea                                   109927 non-null  bool \n",
      " 7   Difficulty breathing or Dyspnea            109927 non-null  bool \n",
      " 8   Digested blood or coffee grounds in vomit  109927 non-null  bool \n",
      " 9   Pain behind eyes or Sensitivity to light   109927 non-null  bool \n",
      " 10  Bleeding from the eyes                     109927 non-null  bool \n",
      " 11  Fatigue or general weakness                109927 non-null  bool \n",
      " 12  Fever                                      109927 non-null  bool \n",
      " 13  Fluid in the lung cavity                   109927 non-null  bool \n",
      " 14  Fluid in lung cavity in auscultation       109927 non-null  bool \n",
      " 15  Fluid in cavity through X-Ray              109927 non-null  bool \n",
      " 16  Bleeding of the gums                       109927 non-null  bool \n",
      " 17  Headache                                   109927 non-null  bool \n",
      " 18  Joint pain or arthritis                    109927 non-null  bool \n",
      " 19  Thorax (sore throat)                       109927 non-null  bool \n",
      " 20  Malaise                                    109927 non-null  bool \n",
      " 21  Muscle pain                                109927 non-null  bool \n",
      " 22  Nausea                                     109927 non-null  bool \n",
      " 23  Other clinical symptoms                    109927 non-null  bool \n",
      " 24  Pharyngeal exudate                         109927 non-null  bool \n",
      " 25  Rapid breathing                            109927 non-null  bool \n",
      " 26  Runny nose                                 109927 non-null  bool \n",
      " 27  Maculopapular rash                         109927 non-null  bool \n",
      " 28  Sore throat or pharyngitis                 109927 non-null  bool \n",
      " 29  Bleeding or bruising                       109927 non-null  bool \n",
      " 30  Vomiting                                   109927 non-null  bool \n",
      " 31  Abnormal lung X-Ray findings               109927 non-null  bool \n",
      " 32  Conjunctivitis                             109927 non-null  bool \n",
      " 33  Acute respiratory distress syndrome        109927 non-null  bool \n",
      " 34  Pneumonia (clinical or radiologic)         109927 non-null  bool \n",
      " 35  Loss of Taste                              109927 non-null  bool \n",
      " 36  Loss of Smell                              109927 non-null  bool \n",
      " 37  Cough with sputum                          109927 non-null  bool \n",
      " 38  Cough with heamoptysis                     109927 non-null  bool \n",
      " 39  Enlarged lymph nodes                       109927 non-null  bool \n",
      " 40  Wheezing                                   109927 non-null  bool \n",
      " 41  Skin ulcers                                109927 non-null  bool \n",
      " 42  Inability to walk                          109927 non-null  bool \n",
      " 43  Indrawing of chest wall                    109927 non-null  bool \n",
      " 44  Other complications                        109927 non-null  bool \n",
      " 45  Specify other complications                109927 non-null  bool \n",
      " 46  Result                                     109927 non-null  bool \n",
      "dtypes: bool(47)\n",
      "memory usage: 4.9 MB\n"
     ]
    }
   ],
   "source": [
    "df_raw.isnull().info()"
   ]
  },
  {
   "cell_type": "markdown",
   "id": "8d700039-9d72-4882-9487-a11322fd5e04",
   "metadata": {},
   "source": [
    "## Data quality issues observed:\n",
    "- The NaN values are strings\n",
    "- the column names are not normalized\n",
    "- Most fields contain binary values and not regularized\n",
    "\n",
    "### Actions\n",
    "- normalize column names\n",
    "- replace NaN with nulls\n",
    "- set all string observations type to lowercase\n",
    "- Deal with missing values"
   ]
  },
  {
   "cell_type": "code",
   "execution_count": 4,
   "id": "c3e1272c-9c8e-4482-b3b7-fdc091fafc62",
   "metadata": {},
   "outputs": [],
   "source": [
    "# clean up column names\n",
    "df_raw.columns = (df_raw.columns\n",
    "                  .str.replace(' ', '_')\n",
    "                  .str.replace('(', '', regex=False)\n",
    "                  .str.replace(')', '', regex=False)\n",
    "                  .str.replace('-', '_')).str.lower()\n"
   ]
  },
  {
   "cell_type": "code",
   "execution_count": 5,
   "id": "8ff5f89a-61b9-4c2f-947a-3f4b20f7086f",
   "metadata": {},
   "outputs": [],
   "source": [
    "# make all observation lowercase\n",
    "for column in df_raw.columns:\n",
    "    df_raw[column]=df_raw[column].str.lower().str.strip()"
   ]
  },
  {
   "cell_type": "code",
   "execution_count": 6,
   "id": "231f9c9b-5f73-4e24-9566-a67ec118bbab",
   "metadata": {},
   "outputs": [
    {
     "data": {
      "text/html": [
       "<div>\n",
       "<style scoped>\n",
       "    .dataframe tbody tr th:only-of-type {\n",
       "        vertical-align: middle;\n",
       "    }\n",
       "\n",
       "    .dataframe tbody tr th {\n",
       "        vertical-align: top;\n",
       "    }\n",
       "\n",
       "    .dataframe thead th {\n",
       "        text-align: right;\n",
       "    }\n",
       "</style>\n",
       "<table border=\"1\" class=\"dataframe\">\n",
       "  <thead>\n",
       "    <tr style=\"text-align: right;\">\n",
       "      <th></th>\n",
       "      <th>sex</th>\n",
       "      <th>birth_year</th>\n",
       "      <th>chest_pain</th>\n",
       "      <th>chills_or_sweats</th>\n",
       "      <th>confused_or_disoriented</th>\n",
       "      <th>cough</th>\n",
       "      <th>diarrhea</th>\n",
       "      <th>difficulty_breathing_or_dyspnea</th>\n",
       "      <th>digested_blood_or_coffee_grounds_in_vomit</th>\n",
       "      <th>pain_behind_eyes_or_sensitivity_to_light</th>\n",
       "      <th>...</th>\n",
       "      <th>cough_with_sputum</th>\n",
       "      <th>cough_with_heamoptysis</th>\n",
       "      <th>enlarged_lymph_nodes</th>\n",
       "      <th>wheezing</th>\n",
       "      <th>skin_ulcers</th>\n",
       "      <th>inability_to_walk</th>\n",
       "      <th>indrawing_of_chest_wall</th>\n",
       "      <th>other_complications</th>\n",
       "      <th>specify_other_complications</th>\n",
       "      <th>result</th>\n",
       "    </tr>\n",
       "  </thead>\n",
       "  <tbody>\n",
       "    <tr>\n",
       "      <th>0</th>\n",
       "      <td>male</td>\n",
       "      <td>1967</td>\n",
       "      <td>no</td>\n",
       "      <td>no</td>\n",
       "      <td>no</td>\n",
       "      <td>no</td>\n",
       "      <td>no</td>\n",
       "      <td>no</td>\n",
       "      <td>NaN</td>\n",
       "      <td>NaN</td>\n",
       "      <td>...</td>\n",
       "      <td>no</td>\n",
       "      <td>no</td>\n",
       "      <td>no</td>\n",
       "      <td>no</td>\n",
       "      <td>no</td>\n",
       "      <td>no</td>\n",
       "      <td>no</td>\n",
       "      <td>1</td>\n",
       "      <td>NaN</td>\n",
       "      <td>pending</td>\n",
       "    </tr>\n",
       "    <tr>\n",
       "      <th>1</th>\n",
       "      <td>male</td>\n",
       "      <td>1976</td>\n",
       "      <td>NaN</td>\n",
       "      <td>NaN</td>\n",
       "      <td>NaN</td>\n",
       "      <td>NaN</td>\n",
       "      <td>NaN</td>\n",
       "      <td>NaN</td>\n",
       "      <td>NaN</td>\n",
       "      <td>NaN</td>\n",
       "      <td>...</td>\n",
       "      <td>NaN</td>\n",
       "      <td>NaN</td>\n",
       "      <td>NaN</td>\n",
       "      <td>NaN</td>\n",
       "      <td>NaN</td>\n",
       "      <td>NaN</td>\n",
       "      <td>NaN</td>\n",
       "      <td>NaN</td>\n",
       "      <td>NaN</td>\n",
       "      <td>NaN</td>\n",
       "    </tr>\n",
       "    <tr>\n",
       "      <th>2</th>\n",
       "      <td>male</td>\n",
       "      <td>1988</td>\n",
       "      <td>no</td>\n",
       "      <td>no</td>\n",
       "      <td>no</td>\n",
       "      <td>no</td>\n",
       "      <td>no</td>\n",
       "      <td>no</td>\n",
       "      <td>NaN</td>\n",
       "      <td>NaN</td>\n",
       "      <td>...</td>\n",
       "      <td>NaN</td>\n",
       "      <td>NaN</td>\n",
       "      <td>NaN</td>\n",
       "      <td>NaN</td>\n",
       "      <td>NaN</td>\n",
       "      <td>NaN</td>\n",
       "      <td>NaN</td>\n",
       "      <td>NaN</td>\n",
       "      <td>NaN</td>\n",
       "      <td>negative</td>\n",
       "    </tr>\n",
       "    <tr>\n",
       "      <th>3</th>\n",
       "      <td>male</td>\n",
       "      <td>1980</td>\n",
       "      <td>NaN</td>\n",
       "      <td>NaN</td>\n",
       "      <td>NaN</td>\n",
       "      <td>NaN</td>\n",
       "      <td>NaN</td>\n",
       "      <td>NaN</td>\n",
       "      <td>NaN</td>\n",
       "      <td>NaN</td>\n",
       "      <td>...</td>\n",
       "      <td>NaN</td>\n",
       "      <td>NaN</td>\n",
       "      <td>NaN</td>\n",
       "      <td>NaN</td>\n",
       "      <td>NaN</td>\n",
       "      <td>NaN</td>\n",
       "      <td>NaN</td>\n",
       "      <td>NaN</td>\n",
       "      <td>NaN</td>\n",
       "      <td>NaN</td>\n",
       "    </tr>\n",
       "    <tr>\n",
       "      <th>4</th>\n",
       "      <td>female</td>\n",
       "      <td>1978</td>\n",
       "      <td>no</td>\n",
       "      <td>no</td>\n",
       "      <td>no</td>\n",
       "      <td>yes</td>\n",
       "      <td>no</td>\n",
       "      <td>yes</td>\n",
       "      <td>NaN</td>\n",
       "      <td>NaN</td>\n",
       "      <td>...</td>\n",
       "      <td>NaN</td>\n",
       "      <td>NaN</td>\n",
       "      <td>NaN</td>\n",
       "      <td>NaN</td>\n",
       "      <td>NaN</td>\n",
       "      <td>NaN</td>\n",
       "      <td>NaN</td>\n",
       "      <td>NaN</td>\n",
       "      <td>NaN</td>\n",
       "      <td>negative</td>\n",
       "    </tr>\n",
       "    <tr>\n",
       "      <th>...</th>\n",
       "      <td>...</td>\n",
       "      <td>...</td>\n",
       "      <td>...</td>\n",
       "      <td>...</td>\n",
       "      <td>...</td>\n",
       "      <td>...</td>\n",
       "      <td>...</td>\n",
       "      <td>...</td>\n",
       "      <td>...</td>\n",
       "      <td>...</td>\n",
       "      <td>...</td>\n",
       "      <td>...</td>\n",
       "      <td>...</td>\n",
       "      <td>...</td>\n",
       "      <td>...</td>\n",
       "      <td>...</td>\n",
       "      <td>...</td>\n",
       "      <td>...</td>\n",
       "      <td>...</td>\n",
       "      <td>...</td>\n",
       "      <td>...</td>\n",
       "    </tr>\n",
       "    <tr>\n",
       "      <th>109922</th>\n",
       "      <td>male</td>\n",
       "      <td>NaN</td>\n",
       "      <td>no</td>\n",
       "      <td>NaN</td>\n",
       "      <td>NaN</td>\n",
       "      <td>no</td>\n",
       "      <td>no</td>\n",
       "      <td>NaN</td>\n",
       "      <td>NaN</td>\n",
       "      <td>NaN</td>\n",
       "      <td>...</td>\n",
       "      <td>NaN</td>\n",
       "      <td>NaN</td>\n",
       "      <td>NaN</td>\n",
       "      <td>NaN</td>\n",
       "      <td>NaN</td>\n",
       "      <td>NaN</td>\n",
       "      <td>NaN</td>\n",
       "      <td>NaN</td>\n",
       "      <td>NaN</td>\n",
       "      <td>negative</td>\n",
       "    </tr>\n",
       "    <tr>\n",
       "      <th>109923</th>\n",
       "      <td>male</td>\n",
       "      <td>1996</td>\n",
       "      <td>no</td>\n",
       "      <td>NaN</td>\n",
       "      <td>NaN</td>\n",
       "      <td>no</td>\n",
       "      <td>no</td>\n",
       "      <td>NaN</td>\n",
       "      <td>NaN</td>\n",
       "      <td>NaN</td>\n",
       "      <td>...</td>\n",
       "      <td>NaN</td>\n",
       "      <td>NaN</td>\n",
       "      <td>NaN</td>\n",
       "      <td>NaN</td>\n",
       "      <td>NaN</td>\n",
       "      <td>NaN</td>\n",
       "      <td>NaN</td>\n",
       "      <td>NaN</td>\n",
       "      <td>NaN</td>\n",
       "      <td>negative</td>\n",
       "    </tr>\n",
       "    <tr>\n",
       "      <th>109924</th>\n",
       "      <td>male</td>\n",
       "      <td>1986</td>\n",
       "      <td>no</td>\n",
       "      <td>NaN</td>\n",
       "      <td>NaN</td>\n",
       "      <td>no</td>\n",
       "      <td>no</td>\n",
       "      <td>NaN</td>\n",
       "      <td>NaN</td>\n",
       "      <td>NaN</td>\n",
       "      <td>...</td>\n",
       "      <td>NaN</td>\n",
       "      <td>NaN</td>\n",
       "      <td>NaN</td>\n",
       "      <td>NaN</td>\n",
       "      <td>NaN</td>\n",
       "      <td>NaN</td>\n",
       "      <td>NaN</td>\n",
       "      <td>NaN</td>\n",
       "      <td>NaN</td>\n",
       "      <td>positive</td>\n",
       "    </tr>\n",
       "    <tr>\n",
       "      <th>109925</th>\n",
       "      <td>male</td>\n",
       "      <td>1996</td>\n",
       "      <td>no</td>\n",
       "      <td>NaN</td>\n",
       "      <td>NaN</td>\n",
       "      <td>no</td>\n",
       "      <td>no</td>\n",
       "      <td>NaN</td>\n",
       "      <td>NaN</td>\n",
       "      <td>NaN</td>\n",
       "      <td>...</td>\n",
       "      <td>NaN</td>\n",
       "      <td>NaN</td>\n",
       "      <td>NaN</td>\n",
       "      <td>NaN</td>\n",
       "      <td>NaN</td>\n",
       "      <td>NaN</td>\n",
       "      <td>NaN</td>\n",
       "      <td>NaN</td>\n",
       "      <td>NaN</td>\n",
       "      <td>negative</td>\n",
       "    </tr>\n",
       "    <tr>\n",
       "      <th>109926</th>\n",
       "      <td>female</td>\n",
       "      <td>1990</td>\n",
       "      <td>NaN</td>\n",
       "      <td>NaN</td>\n",
       "      <td>NaN</td>\n",
       "      <td>NaN</td>\n",
       "      <td>NaN</td>\n",
       "      <td>NaN</td>\n",
       "      <td>NaN</td>\n",
       "      <td>NaN</td>\n",
       "      <td>...</td>\n",
       "      <td>NaN</td>\n",
       "      <td>NaN</td>\n",
       "      <td>NaN</td>\n",
       "      <td>NaN</td>\n",
       "      <td>NaN</td>\n",
       "      <td>NaN</td>\n",
       "      <td>NaN</td>\n",
       "      <td>NaN</td>\n",
       "      <td>NaN</td>\n",
       "      <td>pending</td>\n",
       "    </tr>\n",
       "  </tbody>\n",
       "</table>\n",
       "<p>109927 rows × 47 columns</p>\n",
       "</div>"
      ],
      "text/plain": [
       "           sex birth_year chest_pain chills_or_sweats confused_or_disoriented  \\\n",
       "0         male       1967         no               no                      no   \n",
       "1         male       1976        NaN              NaN                     NaN   \n",
       "2         male       1988         no               no                      no   \n",
       "3         male       1980        NaN              NaN                     NaN   \n",
       "4       female       1978         no               no                      no   \n",
       "...        ...        ...        ...              ...                     ...   \n",
       "109922    male        NaN         no              NaN                     NaN   \n",
       "109923    male       1996         no              NaN                     NaN   \n",
       "109924    male       1986         no              NaN                     NaN   \n",
       "109925    male       1996         no              NaN                     NaN   \n",
       "109926  female       1990        NaN              NaN                     NaN   \n",
       "\n",
       "       cough diarrhea difficulty_breathing_or_dyspnea  \\\n",
       "0         no       no                              no   \n",
       "1        NaN      NaN                             NaN   \n",
       "2         no       no                              no   \n",
       "3        NaN      NaN                             NaN   \n",
       "4        yes       no                             yes   \n",
       "...      ...      ...                             ...   \n",
       "109922    no       no                             NaN   \n",
       "109923    no       no                             NaN   \n",
       "109924    no       no                             NaN   \n",
       "109925    no       no                             NaN   \n",
       "109926   NaN      NaN                             NaN   \n",
       "\n",
       "       digested_blood_or_coffee_grounds_in_vomit  \\\n",
       "0                                            NaN   \n",
       "1                                            NaN   \n",
       "2                                            NaN   \n",
       "3                                            NaN   \n",
       "4                                            NaN   \n",
       "...                                          ...   \n",
       "109922                                       NaN   \n",
       "109923                                       NaN   \n",
       "109924                                       NaN   \n",
       "109925                                       NaN   \n",
       "109926                                       NaN   \n",
       "\n",
       "       pain_behind_eyes_or_sensitivity_to_light  ... cough_with_sputum  \\\n",
       "0                                           NaN  ...                no   \n",
       "1                                           NaN  ...               NaN   \n",
       "2                                           NaN  ...               NaN   \n",
       "3                                           NaN  ...               NaN   \n",
       "4                                           NaN  ...               NaN   \n",
       "...                                         ...  ...               ...   \n",
       "109922                                      NaN  ...               NaN   \n",
       "109923                                      NaN  ...               NaN   \n",
       "109924                                      NaN  ...               NaN   \n",
       "109925                                      NaN  ...               NaN   \n",
       "109926                                      NaN  ...               NaN   \n",
       "\n",
       "       cough_with_heamoptysis enlarged_lymph_nodes wheezing skin_ulcers  \\\n",
       "0                          no                   no       no          no   \n",
       "1                         NaN                  NaN      NaN         NaN   \n",
       "2                         NaN                  NaN      NaN         NaN   \n",
       "3                         NaN                  NaN      NaN         NaN   \n",
       "4                         NaN                  NaN      NaN         NaN   \n",
       "...                       ...                  ...      ...         ...   \n",
       "109922                    NaN                  NaN      NaN         NaN   \n",
       "109923                    NaN                  NaN      NaN         NaN   \n",
       "109924                    NaN                  NaN      NaN         NaN   \n",
       "109925                    NaN                  NaN      NaN         NaN   \n",
       "109926                    NaN                  NaN      NaN         NaN   \n",
       "\n",
       "       inability_to_walk indrawing_of_chest_wall other_complications  \\\n",
       "0                     no                      no                   1   \n",
       "1                    NaN                     NaN                 NaN   \n",
       "2                    NaN                     NaN                 NaN   \n",
       "3                    NaN                     NaN                 NaN   \n",
       "4                    NaN                     NaN                 NaN   \n",
       "...                  ...                     ...                 ...   \n",
       "109922               NaN                     NaN                 NaN   \n",
       "109923               NaN                     NaN                 NaN   \n",
       "109924               NaN                     NaN                 NaN   \n",
       "109925               NaN                     NaN                 NaN   \n",
       "109926               NaN                     NaN                 NaN   \n",
       "\n",
       "       specify_other_complications    result  \n",
       "0                              NaN   pending  \n",
       "1                              NaN       NaN  \n",
       "2                              NaN  negative  \n",
       "3                              NaN       NaN  \n",
       "4                              NaN  negative  \n",
       "...                            ...       ...  \n",
       "109922                         NaN  negative  \n",
       "109923                         NaN  negative  \n",
       "109924                         NaN  positive  \n",
       "109925                         NaN  negative  \n",
       "109926                         NaN   pending  \n",
       "\n",
       "[109927 rows x 47 columns]"
      ]
     },
     "execution_count": 6,
     "metadata": {},
     "output_type": "execute_result"
    }
   ],
   "source": [
    "df_raw"
   ]
  },
  {
   "cell_type": "code",
   "execution_count": 7,
   "id": "ed84e579-2d8c-4516-b3c1-66cbee79e095",
   "metadata": {},
   "outputs": [],
   "source": [
    "#convert birth year to numeric\n",
    "df_raw.birth_year=pd.to_numeric(df_raw.birth_year,downcast='integer')"
   ]
  },
  {
   "cell_type": "code",
   "execution_count": 8,
   "id": "a5956849-82a5-4e65-be0b-3cc70af655c7",
   "metadata": {},
   "outputs": [
    {
     "data": {
      "text/plain": [
       "sex\n",
       "male       0.682490\n",
       "female     0.317464\n",
       "unknown    0.000037\n",
       "other      0.000009\n",
       "Name: proportion, dtype: float64"
      ]
     },
     "execution_count": 8,
     "metadata": {},
     "output_type": "execute_result"
    }
   ],
   "source": [
    "df_raw.sex.value_counts(normalize=True)#.plot(kind='bar');"
   ]
  },
  {
   "cell_type": "markdown",
   "id": "05ac9828-ba9e-455c-b6da-d42378e241d5",
   "metadata": {},
   "source": [
    "df_raw.info()"
   ]
  },
  {
   "cell_type": "code",
   "execution_count": 9,
   "id": "5a70162f-e548-472e-b479-cfd221ce4dd9",
   "metadata": {},
   "outputs": [
    {
     "name": "stdout",
     "output_type": "stream",
     "text": [
      "Originally we have 109927 rows and 47 features in the dataset\n"
     ]
    }
   ],
   "source": [
    "print(f\"Originally we have {df_raw.shape[0]} rows and {df_raw.shape[1]} features in the dataset\")"
   ]
  },
  {
   "cell_type": "code",
   "execution_count": 10,
   "id": "409b40c3-6244-448e-9848-06a6273e1dc9",
   "metadata": {},
   "outputs": [
    {
     "name": "stdout",
     "output_type": "stream",
     "text": [
      "Number of features with missing values 47\n"
     ]
    }
   ],
   "source": [
    "# check for missing data\n",
    "print(\"Number of features with missing values\",len(df_raw.isnull().sum()) )\n",
    "## all the 47 features have missing records hower the number varies from feature to feature"
   ]
  },
  {
   "cell_type": "code",
   "execution_count": 11,
   "id": "b37a25b8-11d2-4cc9-a5f1-3d344dfdf874",
   "metadata": {},
   "outputs": [
    {
     "data": {
      "text/plain": [
       "array(['pending', nan, 'negative', 'positive', 'indeterminate'],\n",
       "      dtype=object)"
      ]
     },
     "execution_count": 11,
     "metadata": {},
     "output_type": "execute_result"
    }
   ],
   "source": [
    "df_raw.result.unique()"
   ]
  },
  {
   "cell_type": "markdown",
   "id": "e231b5c5-32c8-4ae8-b805-c3147feba6c1",
   "metadata": {},
   "source": [
    "### clean up target data\n",
    "- We have to remove any form of ambiguity because this is a classification problem\n",
    "- Remove any result not negative or positve"
   ]
  },
  {
   "cell_type": "code",
   "execution_count": 12,
   "id": "3578dba1-877e-4db4-9e53-d105f5f7d9b6",
   "metadata": {},
   "outputs": [
    {
     "name": "stdout",
     "output_type": "stream",
     "text": [
      "Missing data (%)\n",
      " sex                                           2.455266\n",
      "birth_year                                   13.612670\n",
      "chest_pain                                   61.683663\n",
      "chills_or_sweats                             77.387721\n",
      "confused_or_disoriented                      78.961493\n",
      "cough                                        61.594513\n",
      "diarrhea                                     61.709134\n",
      "difficulty_breathing_or_dyspnea              77.312216\n",
      "digested_blood_or_coffee_grounds_in_vomit    98.729157\n",
      "pain_behind_eyes_or_sensitivity_to_light     98.721879\n",
      "bleeding_from_the_eyes                       98.729157\n",
      "fatigue_or_general_weakness                  61.649094\n",
      "fever                                        61.584506\n",
      "fluid_in_the_lung_cavity                     98.722789\n",
      "fluid_in_lung_cavity_in_auscultation         78.689494\n",
      "fluid_in_cavity_through_x_ray                78.698591\n",
      "bleeding_of_the_gums                         98.729157\n",
      "headache                                     61.720051\n",
      "joint_pain_or_arthritis                      77.412283\n",
      "thorax_sore_throat                           63.002720\n",
      "malaise                                      97.265458\n",
      "muscle_pain                                  78.682216\n",
      "nausea                                       62.999081\n",
      "other_clinical_symptoms                      78.616718\n",
      "pharyngeal_exudate                           97.271826\n",
      "rapid_breathing                              79.232582\n",
      "runny_nose                                   62.996352\n",
      "maculopapular_rash                           80.867303\n",
      "sore_throat_or_pharyngitis                   63.002720\n",
      "bleeding_or_bruising                         80.869122\n",
      "vomiting                                     63.003630\n",
      "abnormal_lung_x_ray_findings                 78.562137\n",
      "conjunctivitis                               83.031466\n",
      "acute_respiratory_distress_syndrome          78.593066\n",
      "pneumonia_clinical_or_radiologic             78.700410\n",
      "loss_of_taste                                63.760496\n",
      "loss_of_smell                                63.767773\n",
      "cough_with_sputum                            79.822064\n",
      "cough_with_heamoptysis                       79.822973\n",
      "enlarged_lymph_nodes                         80.857296\n",
      "wheezing                                     80.873671\n",
      "skin_ulcers                                  80.875490\n",
      "inability_to_walk                            80.867303\n",
      "indrawing_of_chest_wall                      80.875490\n",
      "other_complications                          81.122017\n",
      "specify_other_complications                  99.995452\n",
      "result                                       31.394471\n",
      "dtype: float64\n"
     ]
    }
   ],
   "source": [
    "df_r = df_raw[df_raw['result'].isin(['negative', 'positive'])]\n",
    "\n",
    "missing_data = df_raw.isnull().sum() / len(df_raw) * 100\n",
    "print(\"Missing data (%)\\n\", missing_data)"
   ]
  },
  {
   "cell_type": "markdown",
   "id": "67fea6f6-3d03-475a-8a37-e90d61ce0688",
   "metadata": {},
   "source": [
    "###  Decision\n",
    "- drop columns whose missing values are >90%\n",
    "- This we expect to drop columns that are not clinically frequent\n",
    "- Drop other complications: it's a free text and it is not standadized"
   ]
  },
  {
   "cell_type": "code",
   "execution_count": 13,
   "id": "258ed02a-de86-415a-ad2f-5735e69a73b5",
   "metadata": {},
   "outputs": [
    {
     "name": "stdout",
     "output_type": "stream",
     "text": [
      "Dropped columns: ['digested_blood_or_coffee_grounds_in_vomit', 'pain_behind_eyes_or_sensitivity_to_light', 'bleeding_from_the_eyes', 'fluid_in_the_lung_cavity', 'bleeding_of_the_gums', 'malaise', 'pharyngeal_exudate', 'specify_other_complications']\n"
     ]
    }
   ],
   "source": [
    "threshold = 90\n",
    "cols_to_drop = missing_data[missing_data > threshold].index\n",
    "df_r = df_r.drop(columns=cols_to_drop)\n",
    "print(\"Dropped columns:\", list(cols_to_drop))\n",
    "\n",
    "# df.drop(columns=['other_complications'],inplace=True)\n"
   ]
  },
  {
   "cell_type": "code",
   "execution_count": 14,
   "id": "3ba21237-afe4-47c3-bf64-dcbef1c4ce22",
   "metadata": {},
   "outputs": [
    {
     "data": {
      "text/plain": [
       "sex     result  \n",
       "male    negative    0.589343\n",
       "female  negative    0.328522\n",
       "male    positive    0.057495\n",
       "female  positive    0.024641\n",
       "Name: proportion, dtype: float64"
      ]
     },
     "execution_count": 14,
     "metadata": {},
     "output_type": "execute_result"
    }
   ],
   "source": [
    "df_r[['sex','result']].value_counts(normalize=True)"
   ]
  },
  {
   "cell_type": "markdown",
   "id": "eaf08f57-e09a-493f-9f5f-2772cdffac18",
   "metadata": {},
   "source": [
    "> Most of the Columns dropped are not considered frequent as we can see"
   ]
  },
  {
   "cell_type": "code",
   "execution_count": 15,
   "id": "29ebdac0-9305-48d7-8f33-59c1b025797b",
   "metadata": {},
   "outputs": [
    {
     "data": {
      "text/plain": [
       "<Axes: xlabel='sex,result'>"
      ]
     },
     "execution_count": 15,
     "metadata": {},
     "output_type": "execute_result"
    },
    {
     "data": {
      "image/png": "[encoded data removed]",
      "text/plain": [
       "<Figure size 640x480 with 1 Axes>"
      ]
     },
     "metadata": {},
     "output_type": "display_data"
    }
   ],
   "source": [
    "df_r[['sex','result']].value_counts(normalize=True).plot(kind='bar')"
   ]
  },
  {
   "cell_type": "code",
   "execution_count": 16,
   "id": "1def2dde-e2af-40b4-878a-063b3048808c",
   "metadata": {},
   "outputs": [
    {
     "data": {
      "image/png": "[encoded data removed]",
      "text/plain": [
       "<Figure size 800x500 with 1 Axes>"
      ]
     },
     "metadata": {},
     "output_type": "display_data"
    }
   ],
   "source": [
    "\n",
    "plt.figure(figsize=(8,5))\n",
    "sns.countplot(data=df_r, x='sex', hue='result', palette=['blue', 'red'])\n",
    "\n",
    "plt.title(\"COVID Result by Sex\")\n",
    "plt.ylabel(\"Count\")\n",
    "plt.xlabel(\"Sex\")\n",
    "plt.show()\n"
   ]
  },
  {
   "cell_type": "markdown",
   "id": "ae96ad38-0839-4f7f-90e2-7f0447becf38",
   "metadata": {},
   "source": [
    "## Observations\n",
    "About 64% of males were test and 36% of females were tested.\n",
    "Of the 34100 males tested, about 6% of them testes positive and of 18618 females, about 3% tested positive\n",
    "\n",
    "To drill down futher we will compute the positive rate for both genders"
   ]
  },
  {
   "cell_type": "code",
   "execution_count": 17,
   "id": "5d967292-e832-4f88-a4ec-1f3afd48cc1c",
   "metadata": {},
   "outputs": [
    {
     "name": "stdout",
     "output_type": "stream",
     "text": [
      "sex\n",
      "female    0.069771\n",
      "male      0.088886\n",
      "Name: result, dtype: float64\n"
     ]
    }
   ],
   "source": [
    "# Positivity rate by sex\n",
    "pos_rate = df_r.groupby('sex')['result'].apply(lambda x: (x=='positive').mean())\n",
    "print(pos_rate)\n"
   ]
  },
  {
   "cell_type": "markdown",
   "id": "700d1f16-9bff-454b-8d07-11b3081bb837",
   "metadata": {},
   "source": [
    ">Female positivity rate ≈ 6.98% → Among all females in the dataset, about 7 out of 100 tested positive.\n",
    ">\n",
    ">Male positivity rate ≈ 8.89% → Among all males, about 9 out of 100 tested positive.\n",
    ">\n",
    ">We are not sure add the momement wether this result is significant or not. We will go ahead and do a chi-squared test"
   ]
  },
  {
   "cell_type": "code",
   "execution_count": 18,
   "id": "8052a7e7-18f1-4edc-a6c7-e3b70becd01b",
   "metadata": {},
   "outputs": [
    {
     "name": "stdout",
     "output_type": "stream",
     "text": [
      "Chi2: 58.110587476178225 p-value: 2.4778912445169276e-14\n"
     ]
    }
   ],
   "source": [
    "from scipy.stats import chi2_contingency\n",
    "\n",
    "# Contingency table\n",
    "contingency = pd.crosstab(df_r['sex'], df_r['result'])\n",
    "\n",
    "# Chi-squared test\n",
    "chi2, p, dof, expected = chi2_contingency(contingency)\n",
    "print(\"Chi2:\", chi2, \"p-value:\", p)\n"
   ]
  },
  {
   "cell_type": "markdown",
   "id": "c4150f53-12d7-4428-94eb-c95cf4cfa251",
   "metadata": {},
   "source": [
    "Chi2 ≈ 58.11 → the difference between males and females is substantial.\n",
    "\n",
    "p-value ≈ 2.48e-14 → extremely small, way below 0.05, so the association is highly significant.\n",
    "\n",
    "**Interpretation**\n",
    "\n",
    "The likelihood of being COVID-positive depends on sex in the dataset.\n",
    "\n",
    "Males have a higher proportion of positive results, and this is not due to chance."
   ]
  },
  {
   "cell_type": "markdown",
   "id": "2f9cbf3f-090d-4ab8-9c7e-97a2b8791468",
   "metadata": {},
   "source": [
    "## feature engineering: age\n",
    "\n",
    "The date of data collection was not mentioned. However, we will assumped the year of the data collection to be 2020 because that was the year we recored the covid-19 pandemic "
   ]
  },
  {
   "cell_type": "code",
   "execution_count": 19,
   "id": "d1e7a4de-d17c-40dd-bd0b-63dfb78df05d",
   "metadata": {},
   "outputs": [
    {
     "data": {
      "text/plain": [
       "<Axes: xlabel='age', ylabel='Count'>"
      ]
     },
     "execution_count": 19,
     "metadata": {},
     "output_type": "execute_result"
    },
    {
     "data": {
      "image/png": "[encoded data removed]",
      "text/plain": [
       "<Figure size 640x480 with 1 Axes>"
      ]
     },
     "metadata": {},
     "output_type": "display_data"
    }
   ],
   "source": [
    "df_r['age']=2020-df_r.birth_year\n",
    "sns.histplot(df_r.age.dropna())"
   ]
  },
  {
   "cell_type": "code",
   "execution_count": 20,
   "id": "1fbc56a3-8dfc-4e92-b664-efefd900b18f",
   "metadata": {},
   "outputs": [
    {
     "data": {
      "text/html": [
       "<div>\n",
       "<style scoped>\n",
       "    .dataframe tbody tr th:only-of-type {\n",
       "        vertical-align: middle;\n",
       "    }\n",
       "\n",
       "    .dataframe tbody tr th {\n",
       "        vertical-align: top;\n",
       "    }\n",
       "\n",
       "    .dataframe thead th {\n",
       "        text-align: right;\n",
       "    }\n",
       "</style>\n",
       "<table border=\"1\" class=\"dataframe\">\n",
       "  <thead>\n",
       "    <tr style=\"text-align: right;\">\n",
       "      <th></th>\n",
       "      <th>age</th>\n",
       "    </tr>\n",
       "  </thead>\n",
       "  <tbody>\n",
       "    <tr>\n",
       "      <th>count</th>\n",
       "      <td>44259.00000</td>\n",
       "    </tr>\n",
       "    <tr>\n",
       "      <th>mean</th>\n",
       "      <td>28.47631</td>\n",
       "    </tr>\n",
       "    <tr>\n",
       "      <th>std</th>\n",
       "      <td>14.12432</td>\n",
       "    </tr>\n",
       "    <tr>\n",
       "      <th>min</th>\n",
       "      <td>-1.00000</td>\n",
       "    </tr>\n",
       "    <tr>\n",
       "      <th>25%</th>\n",
       "      <td>20.00000</td>\n",
       "    </tr>\n",
       "    <tr>\n",
       "      <th>50%</th>\n",
       "      <td>25.00000</td>\n",
       "    </tr>\n",
       "    <tr>\n",
       "      <th>75%</th>\n",
       "      <td>34.00000</td>\n",
       "    </tr>\n",
       "    <tr>\n",
       "      <th>max</th>\n",
       "      <td>120.00000</td>\n",
       "    </tr>\n",
       "  </tbody>\n",
       "</table>\n",
       "</div>"
      ],
      "text/plain": [
       "               age\n",
       "count  44259.00000\n",
       "mean      28.47631\n",
       "std       14.12432\n",
       "min       -1.00000\n",
       "25%       20.00000\n",
       "50%       25.00000\n",
       "75%       34.00000\n",
       "max      120.00000"
      ]
     },
     "execution_count": 20,
     "metadata": {},
     "output_type": "execute_result"
    }
   ],
   "source": [
    "df_r[['age']].describe()"
   ]
  },
  {
   "cell_type": "markdown",
   "id": "46b88cdd-31df-4542-8f0b-1556eb9b9f16",
   "metadata": {},
   "source": [
    "### Observations\n",
    "\n",
    "About 75% of the patients in this dataset were 34 years and below, representing a vibrant age population\n",
    "\n",
    "**Actions**\n",
    "- replace -1 age with median age because the distribution is slightly skewed to the right\n",
    "- replace other missing values with median score\n",
    "- Leave the maximum age, 120 because it is medically possible"
   ]
  },
  {
   "cell_type": "code",
   "execution_count": 21,
   "id": "5c16f0b6-2d1c-4919-9d88-c218ea2580d5",
   "metadata": {},
   "outputs": [
    {
     "data": {
      "text/plain": [
       "0"
      ]
     },
     "execution_count": 21,
     "metadata": {},
     "output_type": "execute_result"
    }
   ],
   "source": [
    "df_r.loc[df_r['age'] < 0, 'age'] = np.nan\n",
    "df_r.reset_index(drop=True,inplace=True)\n",
    "median_age = df_r['age'].median()\n",
    "df_r['age'] = df_r['age'].fillna(median_age)\n",
    "df_r.age.isnull().sum()"
   ]
  },
  {
   "cell_type": "code",
   "execution_count": 22,
   "id": "1ac42b94-e2cf-4e95-bc89-7a40b52776c1",
   "metadata": {},
   "outputs": [
    {
     "data": {
      "image/png": "[encoded data removed]",
      "text/plain": [
       "<Figure size 1000x600 with 1 Axes>"
      ]
     },
     "metadata": {},
     "output_type": "display_data"
    }
   ],
   "source": [
    "plt.figure(figsize=(10,6))\n",
    "sns.histplot(data=df_r, x='age', hue='result', bins=30, \n",
    "             palette=['skyblue','red'], alpha=0.6, kde=False)\n",
    "\n",
    "plt.title(\"Age Distribution by COVID Result\")\n",
    "plt.xlabel(\"Age\")\n",
    "plt.ylabel(\"Count\")\n",
    "plt.show()"
   ]
  },
  {
   "cell_type": "markdown",
   "id": "dec82ec9-e1b4-44b4-a4d9-a4765edfc88f",
   "metadata": {},
   "source": [
    "> A similar distribution is observed between the postive patients."
   ]
  },
  {
   "cell_type": "code",
   "execution_count": 23,
   "id": "488e7825-ec18-45cb-8027-00867315d102",
   "metadata": {},
   "outputs": [
    {
     "name": "stdout",
     "output_type": "stream",
     "text": [
      "age_group\n",
      "0-18     0.061412\n",
      "19-30    0.054855\n",
      "31-45    0.143863\n",
      "46-60    0.162056\n",
      "61-75    0.214169\n",
      "76+      0.203390\n",
      "Name: result, dtype: float64\n"
     ]
    }
   ],
   "source": [
    "#  age bins\n",
    "bins = [0, 18, 30, 45, 60, 75, 100]\n",
    "labels = ['0-18','19-30','31-45','46-60','61-75','76+']\n",
    "df_r['age_group'] = pd.cut(df_r['age'], bins=bins, labels=labels)\n",
    "\n",
    "# Positivity rate per age group\n",
    "age_pos_rate = df_r.groupby('age_group', observed=True)['result'].apply(lambda x: (x=='positive').mean())\n",
    "\n",
    "print(age_pos_rate)\n"
   ]
  },
  {
   "cell_type": "markdown",
   "id": "cbf93c9a-bae2-411b-a234-6c40e49a8e84",
   "metadata": {},
   "source": [
    "### Observations\n",
    "\n",
    "- Youngest groups (0–30) have the lowest positivity rates (~5–6%).\n",
    "\n",
    "- Middle-aged and elderly (31–75) show higher positivity rates, peaking at 61–75 (~21%).\n",
    "\n",
    "- Oldest group (76+) slightly decreases (~20%), maybe due to fewer samples or behavioral factors like staying at home or being mindful of the safety measures announced during the pandemic."
   ]
  },
  {
   "cell_type": "markdown",
   "id": "b042d460-bc40-4648-a97e-cbf268689098",
   "metadata": {},
   "source": [
    "### Clean up other features"
   ]
  },
  {
   "cell_type": "code",
   "execution_count": 24,
   "id": "e47f0e52-eb15-4f99-b024-b429e07bb0fc",
   "metadata": {},
   "outputs": [
    {
     "name": "stdout",
     "output_type": "stream",
     "text": [
      "shape before:  (53701, 39)\n"
     ]
    }
   ],
   "source": [
    "df=df_r.copy()\n",
    "## convert to binary\n",
    "# convert sex to binary\n",
    "df['sex']=(df['sex']=='male').astype(int)\n",
    "df['result']=(df['result']=='positive').astype(int)\n",
    "binary_columns=df.dtypes[df.dtypes=='object'].index\n",
    "for col in binary_columns:\n",
    "    df[col]=(df[col]=='yes').astype(int)\n",
    "\n",
    "\n",
    "df.drop(columns=['birth_year','age_group'],inplace=True)\n",
    "print(\"shape before: \",df.shape)"
   ]
  },
  {
   "cell_type": "markdown",
   "id": "a8580c79-0b00-4288-8183-b8cc418a066e",
   "metadata": {},
   "source": [
    "## Remove features without variance from the data"
   ]
  },
  {
   "cell_type": "code",
   "execution_count": 25,
   "id": "157fd9d9-4d87-4cd5-85d5-2221a9c387ab",
   "metadata": {},
   "outputs": [
    {
     "name": "stdout",
     "output_type": "stream",
     "text": [
      "\n",
      "shape after:  (53701, 34)\n"
     ]
    }
   ],
   "source": [
    "from sklearn.feature_selection import VarianceThreshold\n",
    "print()\n",
    "selector = VarianceThreshold(threshold=0)\n",
    "selector.fit(df)  # learn which columns have variance\n",
    "df_clean = df.loc[:, selector.get_support()]  # keep only non-constant columns\n",
    "df_clean.reset_index(drop=True,inplace=True)\n",
    "print(\"shape after: \",df_clean.shape)"
   ]
  },
  {
   "cell_type": "markdown",
   "id": "46948cd5-ad9b-41fb-9a83-8b6490fefcfe",
   "metadata": {},
   "source": [
    "### Observations\n",
    "- From the above we have been able to get rid of 5 features without variance\n",
    "- The next point of action is to examine and subject other binary variables to a statistical test\n",
    "- We will employ chi-square test to test the association of some of the features with the covid-19 result\n",
    "- We will take a decision to include features with statiscally significant association test "
   ]
  },
  {
   "cell_type": "code",
   "execution_count": 26,
   "id": "f7201e85-18e0-4b6d-be58-f5064d639d49",
   "metadata": {},
   "outputs": [
    {
     "name": "stdout",
     "output_type": "stream",
     "text": [
      "sex: p-value=2.253e-20\n",
      "chest_pain: p-value=6.610e-02\n",
      "chills_or_sweats: p-value=1.439e-04\n",
      "confused_or_disoriented: p-value=3.790e-01\n",
      "cough: p-value=2.288e-106\n",
      "diarrhea: p-value=1.287e-07\n",
      "difficulty_breathing_or_dyspnea: p-value=1.216e-23\n",
      "fatigue_or_general_weakness: p-value=8.308e-09\n",
      "fever: p-value=2.258e-66\n",
      "fluid_in_cavity_through_x_ray: p-value=1.000e+00\n",
      "headache: p-value=3.682e-01\n",
      "joint_pain_or_arthritis: p-value=9.443e-09\n",
      "thorax_sore_throat: p-value=4.276e-104\n",
      "muscle_pain: p-value=6.185e-06\n",
      "nausea: p-value=7.945e-11\n",
      "other_clinical_symptoms: p-value=1.000e+00\n",
      "rapid_breathing: p-value=1.465e-01\n",
      "runny_nose: p-value=1.132e-62\n",
      "sore_throat_or_pharyngitis: p-value=4.276e-104\n",
      "vomiting: p-value=1.807e-05\n",
      "abnormal_lung_x_ray_findings: p-value=1.000e+00\n",
      "conjunctivitis: p-value=3.180e-01\n",
      "acute_respiratory_distress_syndrome: p-value=1.000e+00\n",
      "pneumonia_clinical_or_radiologic: p-value=5.724e-01\n",
      "loss_of_taste: p-value=2.548e-08\n",
      "loss_of_smell: p-value=3.296e-07\n",
      "cough_with_sputum: p-value=1.000e+00\n",
      "cough_with_heamoptysis: p-value=1.000e+00\n",
      "enlarged_lymph_nodes: p-value=1.000e+00\n",
      "wheezing: p-value=1.000e+00\n",
      "inability_to_walk: p-value=1.000e+00\n",
      "indrawing_of_chest_wall: p-value=1.235e-01\n"
     ]
    }
   ],
   "source": [
    "# List of binary symptom columns\n",
    "binary_cols = df_clean.columns[:-2]\n",
    "\n",
    "significant_features = []\n",
    "\n",
    "for col in binary_cols:\n",
    "    contingency = pd.crosstab(df_clean[col], df_clean['result'])\n",
    "    chi2, p, _, _ = chi2_contingency(contingency)\n",
    "    if p < 0.05:\n",
    "        significant_features.append(col)\n",
    "    print(f\"{col}: p-value={p:.3e}\")\n",
    "\n"
   ]
  },
  {
   "cell_type": "code",
   "execution_count": 27,
   "id": "93e60c79-9d08-4df2-99d5-ea528779df3d",
   "metadata": {},
   "outputs": [
    {
     "name": "stdout",
     "output_type": "stream",
     "text": [
      "Significant features: ['sex', 'chills_or_sweats', 'cough', 'diarrhea', 'difficulty_breathing_or_dyspnea', 'fatigue_or_general_weakness', 'fever', 'joint_pain_or_arthritis', 'thorax_sore_throat', 'muscle_pain', 'nausea', 'runny_nose', 'sore_throat_or_pharyngitis', 'vomiting', 'loss_of_taste', 'loss_of_smell']\n"
     ]
    }
   ],
   "source": [
    "print(\"Significant features:\", significant_features)"
   ]
  },
  {
   "cell_type": "code",
   "execution_count": 28,
   "id": "fd058ea5-f577-4da8-bf7b-4c95ed0dbd44",
   "metadata": {},
   "outputs": [
    {
     "name": "stdout",
     "output_type": "stream",
     "text": [
      "The number of binary features are are considering in the prediction is 16\n"
     ]
    }
   ],
   "source": [
    "print(\"The number of binary features are are considering in the prediction is\",len(significant_features))"
   ]
  },
  {
   "cell_type": "markdown",
   "id": "2197a738-4351-448f-9ff5-04a329af7900",
   "metadata": {},
   "source": [
    "> The number of features have significantly drop from 34 to 18 (16 + results,age)\n",
    "> "
   ]
  },
  {
   "cell_type": "markdown",
   "id": "4accbf9c-be08-48b3-b826-50ae5b3a89f7",
   "metadata": {},
   "source": [
    "## Final feature selection"
   ]
  },
  {
   "cell_type": "code",
   "execution_count": 40,
   "id": "84a37c19-af4d-44b2-b5e5-b60d9b55f2c7",
   "metadata": {},
   "outputs": [],
   "source": [
    "df_clean=df_clean[significant_features+['age','result']].reset_index(drop=True)"
   ]
  },
  {
   "cell_type": "markdown",
   "id": "b3436eb1-0a63-45fe-ade9-105fb258f326",
   "metadata": {},
   "source": [
    "# Summary\n",
    "- We worked on a covid-19 data set originaally containing 109927 observations and 47 features\n",
    "- We systematically cleaned the dataset, and handled missing information\n",
    "- For most symtomps, we assumed no or nothing to be 0.\n",
    "- We statistically tested the associations between each feature and the target feature\n",
    "- We are down to 53701 observations and 16 features in all\n",
    "\n",
    "# Conclussion\n",
    "- We will save the resulting data as a csv\n",
    "- Create a separate notebook for the machine learning"
   ]
  },
  {
   "cell_type": "code",
   "execution_count": 43,
   "id": "20e5fc47-c9e7-4d03-92cc-65a716981af2",
   "metadata": {},
   "outputs": [],
   "source": [
    "df_clean.to_csv(\"covid_19_clean_dataset.csv\",index=False)"
   ]
  },
  {
   "cell_type": "code",
   "execution_count": null,
   "id": "fed97002-d7a2-47d5-b133-4de8365496f6",
   "metadata": {},
   "outputs": [],
   "source": []
  }
 ],
 "metadata": {
  "kernelspec": {
   "display_name": "Python 3 (ipykernel)",
   "language": "python",
   "name": "python3"
  },
  "language_info": {
   "codemirror_mode": {
    "name": "ipython",
    "version": 3
   },
   "file_extension": ".py",
   "mimetype": "text/x-python",
   "name": "python",
   "nbconvert_exporter": "python",
   "pygments_lexer": "ipython3",
   "version": "3.12.7"
  }
 },
 "nbformat": 4,
 "nbformat_minor": 5
}
